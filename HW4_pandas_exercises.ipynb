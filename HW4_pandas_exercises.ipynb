{
  "cells": [
    {
      "cell_type": "markdown",
      "metadata": {
        "id": "voHs8sde1ugA"
      },
      "source": [
        "# Pandas Exercises"
      ]
    },
    {
      "cell_type": "code",
      "execution_count": null,
      "metadata": {
        "colab": {
          "base_uri": "https://localhost:8080/",
          "height": 206
        },
        "id": "zwrOG9mCToXo",
        "outputId": "c74a96e3-87c9-4198-9ad3-e72f2f15593c"
      },
      "outputs": [
        {
          "data": {
            "text/html": [
              "\n",
              "  <div id=\"df-3d013a91-1366-40cd-b94f-2dd2f2128dbf\">\n",
              "    <div class=\"colab-df-container\">\n",
              "      <div>\n",
              "<style scoped>\n",
              "    .dataframe tbody tr th:only-of-type {\n",
              "        vertical-align: middle;\n",
              "    }\n",
              "\n",
              "    .dataframe tbody tr th {\n",
              "        vertical-align: top;\n",
              "    }\n",
              "\n",
              "    .dataframe thead th {\n",
              "        text-align: right;\n",
              "    }\n",
              "</style>\n",
              "<table border=\"1\" class=\"dataframe\">\n",
              "  <thead>\n",
              "    <tr style=\"text-align: right;\">\n",
              "      <th></th>\n",
              "      <th>Unnamed: 0</th>\n",
              "      <th>date</th>\n",
              "      <th>city</th>\n",
              "      <th>country</th>\n",
              "      <th>avg_temp_c</th>\n",
              "    </tr>\n",
              "  </thead>\n",
              "  <tbody>\n",
              "    <tr>\n",
              "      <th>0</th>\n",
              "      <td>0</td>\n",
              "      <td>2000-01-01</td>\n",
              "      <td>Abidjan</td>\n",
              "      <td>Côte D'Ivoire</td>\n",
              "      <td>27.293</td>\n",
              "    </tr>\n",
              "    <tr>\n",
              "      <th>1</th>\n",
              "      <td>1</td>\n",
              "      <td>2000-02-01</td>\n",
              "      <td>Abidjan</td>\n",
              "      <td>Côte D'Ivoire</td>\n",
              "      <td>27.685</td>\n",
              "    </tr>\n",
              "    <tr>\n",
              "      <th>2</th>\n",
              "      <td>2</td>\n",
              "      <td>2000-03-01</td>\n",
              "      <td>Abidjan</td>\n",
              "      <td>Côte D'Ivoire</td>\n",
              "      <td>29.061</td>\n",
              "    </tr>\n",
              "    <tr>\n",
              "      <th>3</th>\n",
              "      <td>3</td>\n",
              "      <td>2000-04-01</td>\n",
              "      <td>Abidjan</td>\n",
              "      <td>Côte D'Ivoire</td>\n",
              "      <td>28.162</td>\n",
              "    </tr>\n",
              "    <tr>\n",
              "      <th>4</th>\n",
              "      <td>4</td>\n",
              "      <td>2000-05-01</td>\n",
              "      <td>Abidjan</td>\n",
              "      <td>Côte D'Ivoire</td>\n",
              "      <td>27.547</td>\n",
              "    </tr>\n",
              "  </tbody>\n",
              "</table>\n",
              "</div>\n",
              "      <button class=\"colab-df-convert\" onclick=\"convertToInteractive('df-3d013a91-1366-40cd-b94f-2dd2f2128dbf')\"\n",
              "              title=\"Convert this dataframe to an interactive table.\"\n",
              "              style=\"display:none;\">\n",
              "        \n",
              "  <svg xmlns=\"http://www.w3.org/2000/svg\" height=\"24px\"viewBox=\"0 0 24 24\"\n",
              "       width=\"24px\">\n",
              "    <path d=\"M0 0h24v24H0V0z\" fill=\"none\"/>\n",
              "    <path d=\"M18.56 5.44l.94 2.06.94-2.06 2.06-.94-2.06-.94-.94-2.06-.94 2.06-2.06.94zm-11 1L8.5 8.5l.94-2.06 2.06-.94-2.06-.94L8.5 2.5l-.94 2.06-2.06.94zm10 10l.94 2.06.94-2.06 2.06-.94-2.06-.94-.94-2.06-.94 2.06-2.06.94z\"/><path d=\"M17.41 7.96l-1.37-1.37c-.4-.4-.92-.59-1.43-.59-.52 0-1.04.2-1.43.59L10.3 9.45l-7.72 7.72c-.78.78-.78 2.05 0 2.83L4 21.41c.39.39.9.59 1.41.59.51 0 1.02-.2 1.41-.59l7.78-7.78 2.81-2.81c.8-.78.8-2.07 0-2.86zM5.41 20L4 18.59l7.72-7.72 1.47 1.35L5.41 20z\"/>\n",
              "  </svg>\n",
              "      </button>\n",
              "      \n",
              "  <style>\n",
              "    .colab-df-container {\n",
              "      display:flex;\n",
              "      flex-wrap:wrap;\n",
              "      gap: 12px;\n",
              "    }\n",
              "\n",
              "    .colab-df-convert {\n",
              "      background-color: #E8F0FE;\n",
              "      border: none;\n",
              "      border-radius: 50%;\n",
              "      cursor: pointer;\n",
              "      display: none;\n",
              "      fill: #1967D2;\n",
              "      height: 32px;\n",
              "      padding: 0 0 0 0;\n",
              "      width: 32px;\n",
              "    }\n",
              "\n",
              "    .colab-df-convert:hover {\n",
              "      background-color: #E2EBFA;\n",
              "      box-shadow: 0px 1px 2px rgba(60, 64, 67, 0.3), 0px 1px 3px 1px rgba(60, 64, 67, 0.15);\n",
              "      fill: #174EA6;\n",
              "    }\n",
              "\n",
              "    [theme=dark] .colab-df-convert {\n",
              "      background-color: #3B4455;\n",
              "      fill: #D2E3FC;\n",
              "    }\n",
              "\n",
              "    [theme=dark] .colab-df-convert:hover {\n",
              "      background-color: #434B5C;\n",
              "      box-shadow: 0px 1px 3px 1px rgba(0, 0, 0, 0.15);\n",
              "      filter: drop-shadow(0px 1px 2px rgba(0, 0, 0, 0.3));\n",
              "      fill: #FFFFFF;\n",
              "    }\n",
              "  </style>\n",
              "\n",
              "      <script>\n",
              "        const buttonEl =\n",
              "          document.querySelector('#df-3d013a91-1366-40cd-b94f-2dd2f2128dbf button.colab-df-convert');\n",
              "        buttonEl.style.display =\n",
              "          google.colab.kernel.accessAllowed ? 'block' : 'none';\n",
              "\n",
              "        async function convertToInteractive(key) {\n",
              "          const element = document.querySelector('#df-3d013a91-1366-40cd-b94f-2dd2f2128dbf');\n",
              "          const dataTable =\n",
              "            await google.colab.kernel.invokeFunction('convertToInteractive',\n",
              "                                                     [key], {});\n",
              "          if (!dataTable) return;\n",
              "\n",
              "          const docLinkHtml = 'Like what you see? Visit the ' +\n",
              "            '<a target=\"_blank\" href=https://colab.research.google.com/notebooks/data_table.ipynb>data table notebook</a>'\n",
              "            + ' to learn more about interactive tables.';\n",
              "          element.innerHTML = '';\n",
              "          dataTable['output_type'] = 'display_data';\n",
              "          await google.colab.output.renderOutput(dataTable, element);\n",
              "          const docLink = document.createElement('div');\n",
              "          docLink.innerHTML = docLinkHtml;\n",
              "          element.appendChild(docLink);\n",
              "        }\n",
              "      </script>\n",
              "    </div>\n",
              "  </div>\n",
              "  "
            ],
            "text/plain": [
              "   Unnamed: 0        date     city        country  avg_temp_c\n",
              "0           0  2000-01-01  Abidjan  Côte D'Ivoire      27.293\n",
              "1           1  2000-02-01  Abidjan  Côte D'Ivoire      27.685\n",
              "2           2  2000-03-01  Abidjan  Côte D'Ivoire      29.061\n",
              "3           3  2000-04-01  Abidjan  Côte D'Ivoire      28.162\n",
              "4           4  2000-05-01  Abidjan  Côte D'Ivoire      27.547"
            ]
          },
          "execution_count": 4,
          "metadata": {},
          "output_type": "execute_result"
        }
      ],
      "source": [
        "import pandas as pd\n",
        "# CSV dosyasını okuyun ve temperatures adlı değişkene atayın.\n",
        "pd.read_csv(\"/content/temperatures.csv\")\n",
        "temperatures=pd.read_csv(\"/content/temperatures.csv\")\n",
        "temperatures.head()\n",
        "# OPSİYONEL \n",
        "# Veri setini inceleyin. (.describe() etc.)\n"
      ]
    },
    {
      "cell_type": "code",
      "execution_count": null,
      "metadata": {
        "colab": {
          "base_uri": "https://localhost:8080/",
          "height": 300
        },
        "id": "__5Jbl962hs6",
        "outputId": "fbffe6ca-ad52-448b-d2b6-7a91ea2a5e0c"
      },
      "outputs": [
        {
          "data": {
            "text/html": [
              "\n",
              "  <div id=\"df-ab041da2-807e-4c43-b82c-439f6748d575\">\n",
              "    <div class=\"colab-df-container\">\n",
              "      <div>\n",
              "<style scoped>\n",
              "    .dataframe tbody tr th:only-of-type {\n",
              "        vertical-align: middle;\n",
              "    }\n",
              "\n",
              "    .dataframe tbody tr th {\n",
              "        vertical-align: top;\n",
              "    }\n",
              "\n",
              "    .dataframe thead th {\n",
              "        text-align: right;\n",
              "    }\n",
              "</style>\n",
              "<table border=\"1\" class=\"dataframe\">\n",
              "  <thead>\n",
              "    <tr style=\"text-align: right;\">\n",
              "      <th></th>\n",
              "      <th>Unnamed: 0</th>\n",
              "      <th>avg_temp_c</th>\n",
              "    </tr>\n",
              "  </thead>\n",
              "  <tbody>\n",
              "    <tr>\n",
              "      <th>count</th>\n",
              "      <td>16500.000000</td>\n",
              "      <td>16407.000000</td>\n",
              "    </tr>\n",
              "    <tr>\n",
              "      <th>mean</th>\n",
              "      <td>8249.500000</td>\n",
              "      <td>19.732877</td>\n",
              "    </tr>\n",
              "    <tr>\n",
              "      <th>std</th>\n",
              "      <td>4763.284056</td>\n",
              "      <td>9.579635</td>\n",
              "    </tr>\n",
              "    <tr>\n",
              "      <th>min</th>\n",
              "      <td>0.000000</td>\n",
              "      <td>-23.495000</td>\n",
              "    </tr>\n",
              "    <tr>\n",
              "      <th>25%</th>\n",
              "      <td>4124.750000</td>\n",
              "      <td>14.870000</td>\n",
              "    </tr>\n",
              "    <tr>\n",
              "      <th>50%</th>\n",
              "      <td>8249.500000</td>\n",
              "      <td>22.119000</td>\n",
              "    </tr>\n",
              "    <tr>\n",
              "      <th>75%</th>\n",
              "      <td>12374.250000</td>\n",
              "      <td>27.001500</td>\n",
              "    </tr>\n",
              "    <tr>\n",
              "      <th>max</th>\n",
              "      <td>16499.000000</td>\n",
              "      <td>38.283000</td>\n",
              "    </tr>\n",
              "  </tbody>\n",
              "</table>\n",
              "</div>\n",
              "      <button class=\"colab-df-convert\" onclick=\"convertToInteractive('df-ab041da2-807e-4c43-b82c-439f6748d575')\"\n",
              "              title=\"Convert this dataframe to an interactive table.\"\n",
              "              style=\"display:none;\">\n",
              "        \n",
              "  <svg xmlns=\"http://www.w3.org/2000/svg\" height=\"24px\"viewBox=\"0 0 24 24\"\n",
              "       width=\"24px\">\n",
              "    <path d=\"M0 0h24v24H0V0z\" fill=\"none\"/>\n",
              "    <path d=\"M18.56 5.44l.94 2.06.94-2.06 2.06-.94-2.06-.94-.94-2.06-.94 2.06-2.06.94zm-11 1L8.5 8.5l.94-2.06 2.06-.94-2.06-.94L8.5 2.5l-.94 2.06-2.06.94zm10 10l.94 2.06.94-2.06 2.06-.94-2.06-.94-.94-2.06-.94 2.06-2.06.94z\"/><path d=\"M17.41 7.96l-1.37-1.37c-.4-.4-.92-.59-1.43-.59-.52 0-1.04.2-1.43.59L10.3 9.45l-7.72 7.72c-.78.78-.78 2.05 0 2.83L4 21.41c.39.39.9.59 1.41.59.51 0 1.02-.2 1.41-.59l7.78-7.78 2.81-2.81c.8-.78.8-2.07 0-2.86zM5.41 20L4 18.59l7.72-7.72 1.47 1.35L5.41 20z\"/>\n",
              "  </svg>\n",
              "      </button>\n",
              "      \n",
              "  <style>\n",
              "    .colab-df-container {\n",
              "      display:flex;\n",
              "      flex-wrap:wrap;\n",
              "      gap: 12px;\n",
              "    }\n",
              "\n",
              "    .colab-df-convert {\n",
              "      background-color: #E8F0FE;\n",
              "      border: none;\n",
              "      border-radius: 50%;\n",
              "      cursor: pointer;\n",
              "      display: none;\n",
              "      fill: #1967D2;\n",
              "      height: 32px;\n",
              "      padding: 0 0 0 0;\n",
              "      width: 32px;\n",
              "    }\n",
              "\n",
              "    .colab-df-convert:hover {\n",
              "      background-color: #E2EBFA;\n",
              "      box-shadow: 0px 1px 2px rgba(60, 64, 67, 0.3), 0px 1px 3px 1px rgba(60, 64, 67, 0.15);\n",
              "      fill: #174EA6;\n",
              "    }\n",
              "\n",
              "    [theme=dark] .colab-df-convert {\n",
              "      background-color: #3B4455;\n",
              "      fill: #D2E3FC;\n",
              "    }\n",
              "\n",
              "    [theme=dark] .colab-df-convert:hover {\n",
              "      background-color: #434B5C;\n",
              "      box-shadow: 0px 1px 3px 1px rgba(0, 0, 0, 0.15);\n",
              "      filter: drop-shadow(0px 1px 2px rgba(0, 0, 0, 0.3));\n",
              "      fill: #FFFFFF;\n",
              "    }\n",
              "  </style>\n",
              "\n",
              "      <script>\n",
              "        const buttonEl =\n",
              "          document.querySelector('#df-ab041da2-807e-4c43-b82c-439f6748d575 button.colab-df-convert');\n",
              "        buttonEl.style.display =\n",
              "          google.colab.kernel.accessAllowed ? 'block' : 'none';\n",
              "\n",
              "        async function convertToInteractive(key) {\n",
              "          const element = document.querySelector('#df-ab041da2-807e-4c43-b82c-439f6748d575');\n",
              "          const dataTable =\n",
              "            await google.colab.kernel.invokeFunction('convertToInteractive',\n",
              "                                                     [key], {});\n",
              "          if (!dataTable) return;\n",
              "\n",
              "          const docLinkHtml = 'Like what you see? Visit the ' +\n",
              "            '<a target=\"_blank\" href=https://colab.research.google.com/notebooks/data_table.ipynb>data table notebook</a>'\n",
              "            + ' to learn more about interactive tables.';\n",
              "          element.innerHTML = '';\n",
              "          dataTable['output_type'] = 'display_data';\n",
              "          await google.colab.output.renderOutput(dataTable, element);\n",
              "          const docLink = document.createElement('div');\n",
              "          docLink.innerHTML = docLinkHtml;\n",
              "          element.appendChild(docLink);\n",
              "        }\n",
              "      </script>\n",
              "    </div>\n",
              "  </div>\n",
              "  "
            ],
            "text/plain": [
              "         Unnamed: 0    avg_temp_c\n",
              "count  16500.000000  16407.000000\n",
              "mean    8249.500000     19.732877\n",
              "std     4763.284056      9.579635\n",
              "min        0.000000    -23.495000\n",
              "25%     4124.750000     14.870000\n",
              "50%     8249.500000     22.119000\n",
              "75%    12374.250000     27.001500\n",
              "max    16499.000000     38.283000"
            ]
          },
          "execution_count": 5,
          "metadata": {},
          "output_type": "execute_result"
        }
      ],
      "source": [
        "temperatures.describe()"
      ]
    },
    {
      "cell_type": "markdown",
      "metadata": {
        "id": "AXC8T32Pl1gc"
      },
      "source": [
        "1- Filtreleme yapacağız.\n",
        "\n",
        "Filtrelemek için Tarih sütununu index olarak kullanın, ardından subset operasyonları için .loc[]'u kullanın. Önemli nokta tarihleri ISO 8601 formatında, yani yıl-ay-gün için \"yyyy-aa-gg\", yıl-ay için \"yyyy-mm\" ve yıl için \"yyyy\" biçiminde tutmanız.\n",
        "\n",
        "Not: Birden fazla boolen condition birlikte kullanmak için '&' kullanabilirsiniz."
      ]
    },
    {
      "cell_type": "code",
      "execution_count": 110,
      "metadata": {
        "colab": {
          "base_uri": "https://localhost:8080/"
        },
        "id": "ulgbdoBXluPn",
        "outputId": "6ea79943-9d25-49c6-e235-4500bd4376f0"
      },
      "outputs": [
        {
          "name": "stdout",
          "output_type": "stream",
          "text": [
            "       Unnamed: 0        date     city        country  avg_temp_c  year\n",
            "120           120  2010-01-01  Abidjan  Côte D'Ivoire      28.270  2010\n",
            "121           121  2010-02-01  Abidjan  Côte D'Ivoire      29.262  2010\n",
            "122           122  2010-03-01  Abidjan  Côte D'Ivoire      29.596  2010\n",
            "123           123  2010-04-01  Abidjan  Côte D'Ivoire      29.068  2010\n",
            "124           124  2010-05-01  Abidjan  Côte D'Ivoire      28.258  2010\n",
            "...           ...         ...      ...            ...         ...   ...\n",
            "16474       16474  2011-08-01     Xian          China      23.069  2011\n",
            "16475       16475  2011-09-01     Xian          China      16.775  2011\n",
            "16476       16476  2011-10-01     Xian          China      12.587  2011\n",
            "16477       16477  2011-11-01     Xian          China       7.543  2011\n",
            "16478       16478  2011-12-01     Xian          China      -0.490  2011\n",
            "\n",
            "[2400 rows x 6 columns]\n"
          ]
        }
      ],
      "source": [
        "# 2010 ve 2011 tarihleri arasındaki sıcakları boolen condition kullanarak filtreleyin ve sonucu 'temperatures_bool' değişkinene atayın. (.isin() ya da .loc[] kullanmayın)\n",
        "# Çıktıyı print ile yazdırın.\n",
        "temperatures_bool=temperatures[(\"2010-01-01\"<=temperatures[\"date\"]) & (temperatures[\"date\"]<=\"2011-12-31\")]\n",
        "print(temperatures_bool)\n"
      ]
    },
    {
      "cell_type": "code",
      "execution_count": null,
      "metadata": {
        "colab": {
          "base_uri": "https://localhost:8080/"
        },
        "id": "GqQ-61gGABGy",
        "outputId": "1606f404-88a8-4389-a73b-b07a2dcec099"
      },
      "outputs": [
        {
          "name": "stdout",
          "output_type": "stream",
          "text": [
            "            Unnamed: 0       city        country  avg_temp_c\n",
            "date                                                        \n",
            "2000-01-01           0    Abidjan  Côte D'Ivoire      27.293\n",
            "2000-01-01        8415     Lahore       Pakistan      12.792\n",
            "2000-01-01       15345   Tangshan          China      -5.406\n",
            "2000-01-01        5115      Gizeh          Egypt      12.669\n",
            "2000-01-01        8580    Lakhnau          India      15.152\n",
            "...                ...        ...            ...         ...\n",
            "2013-09-01       11549    Nanjing          China         NaN\n",
            "2013-09-01       11714  New Delhi          India         NaN\n",
            "2013-09-01       11879   New York  United States      17.408\n",
            "2013-09-01       12209     Peking          China         NaN\n",
            "2013-09-01       16499       Xian          China         NaN\n",
            "\n",
            "[16500 rows x 4 columns]\n"
          ]
        }
      ],
      "source": [
        "# Tarih sütununu index yapın ve indexe göre sıralayın ve datayı 'temperatures_ind' isminde değişkene eşitleyin.\n",
        "temperatures_ind = temperatures.set_index([\"date\"]).sort_index()\n",
        "print(temperatures_ind)"
      ]
    },
    {
      "cell_type": "code",
      "execution_count": null,
      "metadata": {
        "colab": {
          "base_uri": "https://localhost:8080/"
        },
        "id": "MHqrWRXnEHvb",
        "outputId": "8ae48dbf-f30c-4e91-cf90-122a676fa352"
      },
      "outputs": [
        {
          "name": "stdout",
          "output_type": "stream",
          "text": [
            "            Unnamed: 0       city        country  avg_temp_c\n",
            "date                                                        \n",
            "2000-01-01           0    Abidjan  Côte D'Ivoire      27.293\n",
            "2000-01-01        8415     Lahore       Pakistan      12.792\n",
            "2000-01-01       15345   Tangshan          China      -5.406\n",
            "2000-01-01        5115      Gizeh          Egypt      12.669\n",
            "2000-01-01        8580    Lakhnau          India      15.152\n",
            "...                ...        ...            ...         ...\n",
            "2013-09-01       11549    Nanjing          China         NaN\n",
            "2013-09-01       11714  New Delhi          India         NaN\n",
            "2013-09-01       11879   New York  United States      17.408\n",
            "2013-09-01       12209     Peking          China         NaN\n",
            "2013-09-01       16499       Xian          China         NaN\n",
            "\n",
            "[16500 rows x 4 columns]\n"
          ]
        }
      ],
      "source": [
        "# temperatures_ind dataframe'ini 2010 ve 2011 tarihleri arasında filtrelemek için .loc[] kullanın.\n",
        "# Çıktıyı print ile yazdırın.\n",
        "temperatures_ind.loc[\"2010-01-01\":\"2011-12-01\"]\n",
        "print(temperatures_ind)"
      ]
    },
    {
      "cell_type": "code",
      "execution_count": null,
      "metadata": {
        "colab": {
          "base_uri": "https://localhost:8080/"
        },
        "id": "vvIe1F7UMPs0",
        "outputId": "d93e6802-ffa2-46ec-9de0-474ea8b99961"
      },
      "outputs": [
        {
          "name": "stdout",
          "output_type": "stream",
          "text": [
            "            Unnamed: 0       city        country  avg_temp_c\n",
            "date                                                        \n",
            "2000-01-01           0    Abidjan  Côte D'Ivoire      27.293\n",
            "2000-01-01        8415     Lahore       Pakistan      12.792\n",
            "2000-01-01       15345   Tangshan          China      -5.406\n",
            "2000-01-01        5115      Gizeh          Egypt      12.669\n",
            "2000-01-01        8580    Lakhnau          India      15.152\n",
            "...                ...        ...            ...         ...\n",
            "2013-09-01       11549    Nanjing          China         NaN\n",
            "2013-09-01       11714  New Delhi          India         NaN\n",
            "2013-09-01       11879   New York  United States      17.408\n",
            "2013-09-01       12209     Peking          China         NaN\n",
            "2013-09-01       16499       Xian          China         NaN\n",
            "\n",
            "[16500 rows x 4 columns]\n"
          ]
        }
      ],
      "source": [
        "# temperatures_ind dataframe'ini Agustos 2010, Şubat 2011 arasında filtrelemek için .loc[] kullanın.\n",
        "# Çıktıyı print ile yazdırın.\n",
        "temperatures_ind.loc[\"2010-08-01\":\"2011-02-01\"]\n",
        "print(temperatures_ind)\n"
      ]
    },
    {
      "cell_type": "markdown",
      "metadata": {
        "id": "L_XXR0mRpkyB"
      },
      "source": [
        "2- Pivot tablo oluşturacağız."
      ]
    },
    {
      "cell_type": "code",
      "execution_count": null,
      "metadata": {
        "colab": {
          "base_uri": "https://localhost:8080/",
          "height": 423
        },
        "id": "MdXgboJwN69p",
        "outputId": "c8121dd9-6852-411e-e9ff-a4600d4084fe"
      },
      "outputs": [
        {
          "data": {
            "text/html": [
              "\n",
              "  <div id=\"df-523e1e36-9b89-479f-b4eb-0195e4e4bd75\">\n",
              "    <div class=\"colab-df-container\">\n",
              "      <div>\n",
              "<style scoped>\n",
              "    .dataframe tbody tr th:only-of-type {\n",
              "        vertical-align: middle;\n",
              "    }\n",
              "\n",
              "    .dataframe tbody tr th {\n",
              "        vertical-align: top;\n",
              "    }\n",
              "\n",
              "    .dataframe thead th {\n",
              "        text-align: right;\n",
              "    }\n",
              "</style>\n",
              "<table border=\"1\" class=\"dataframe\">\n",
              "  <thead>\n",
              "    <tr style=\"text-align: right;\">\n",
              "      <th></th>\n",
              "      <th>Unnamed: 0</th>\n",
              "      <th>date</th>\n",
              "      <th>city</th>\n",
              "      <th>country</th>\n",
              "      <th>avg_temp_c</th>\n",
              "      <th>year</th>\n",
              "    </tr>\n",
              "  </thead>\n",
              "  <tbody>\n",
              "    <tr>\n",
              "      <th>0</th>\n",
              "      <td>0</td>\n",
              "      <td>2000-01-01</td>\n",
              "      <td>Abidjan</td>\n",
              "      <td>Côte D'Ivoire</td>\n",
              "      <td>27.293</td>\n",
              "      <td>2000</td>\n",
              "    </tr>\n",
              "    <tr>\n",
              "      <th>1</th>\n",
              "      <td>1</td>\n",
              "      <td>2000-02-01</td>\n",
              "      <td>Abidjan</td>\n",
              "      <td>Côte D'Ivoire</td>\n",
              "      <td>27.685</td>\n",
              "      <td>2000</td>\n",
              "    </tr>\n",
              "    <tr>\n",
              "      <th>2</th>\n",
              "      <td>2</td>\n",
              "      <td>2000-03-01</td>\n",
              "      <td>Abidjan</td>\n",
              "      <td>Côte D'Ivoire</td>\n",
              "      <td>29.061</td>\n",
              "      <td>2000</td>\n",
              "    </tr>\n",
              "    <tr>\n",
              "      <th>3</th>\n",
              "      <td>3</td>\n",
              "      <td>2000-04-01</td>\n",
              "      <td>Abidjan</td>\n",
              "      <td>Côte D'Ivoire</td>\n",
              "      <td>28.162</td>\n",
              "      <td>2000</td>\n",
              "    </tr>\n",
              "    <tr>\n",
              "      <th>4</th>\n",
              "      <td>4</td>\n",
              "      <td>2000-05-01</td>\n",
              "      <td>Abidjan</td>\n",
              "      <td>Côte D'Ivoire</td>\n",
              "      <td>27.547</td>\n",
              "      <td>2000</td>\n",
              "    </tr>\n",
              "    <tr>\n",
              "      <th>...</th>\n",
              "      <td>...</td>\n",
              "      <td>...</td>\n",
              "      <td>...</td>\n",
              "      <td>...</td>\n",
              "      <td>...</td>\n",
              "      <td>...</td>\n",
              "    </tr>\n",
              "    <tr>\n",
              "      <th>16495</th>\n",
              "      <td>16495</td>\n",
              "      <td>2013-05-01</td>\n",
              "      <td>Xian</td>\n",
              "      <td>China</td>\n",
              "      <td>18.979</td>\n",
              "      <td>2013</td>\n",
              "    </tr>\n",
              "    <tr>\n",
              "      <th>16496</th>\n",
              "      <td>16496</td>\n",
              "      <td>2013-06-01</td>\n",
              "      <td>Xian</td>\n",
              "      <td>China</td>\n",
              "      <td>23.522</td>\n",
              "      <td>2013</td>\n",
              "    </tr>\n",
              "    <tr>\n",
              "      <th>16497</th>\n",
              "      <td>16497</td>\n",
              "      <td>2013-07-01</td>\n",
              "      <td>Xian</td>\n",
              "      <td>China</td>\n",
              "      <td>25.251</td>\n",
              "      <td>2013</td>\n",
              "    </tr>\n",
              "    <tr>\n",
              "      <th>16498</th>\n",
              "      <td>16498</td>\n",
              "      <td>2013-08-01</td>\n",
              "      <td>Xian</td>\n",
              "      <td>China</td>\n",
              "      <td>24.528</td>\n",
              "      <td>2013</td>\n",
              "    </tr>\n",
              "    <tr>\n",
              "      <th>16499</th>\n",
              "      <td>16499</td>\n",
              "      <td>2013-09-01</td>\n",
              "      <td>Xian</td>\n",
              "      <td>China</td>\n",
              "      <td>NaN</td>\n",
              "      <td>2013</td>\n",
              "    </tr>\n",
              "  </tbody>\n",
              "</table>\n",
              "<p>16500 rows × 6 columns</p>\n",
              "</div>\n",
              "      <button class=\"colab-df-convert\" onclick=\"convertToInteractive('df-523e1e36-9b89-479f-b4eb-0195e4e4bd75')\"\n",
              "              title=\"Convert this dataframe to an interactive table.\"\n",
              "              style=\"display:none;\">\n",
              "        \n",
              "  <svg xmlns=\"http://www.w3.org/2000/svg\" height=\"24px\"viewBox=\"0 0 24 24\"\n",
              "       width=\"24px\">\n",
              "    <path d=\"M0 0h24v24H0V0z\" fill=\"none\"/>\n",
              "    <path d=\"M18.56 5.44l.94 2.06.94-2.06 2.06-.94-2.06-.94-.94-2.06-.94 2.06-2.06.94zm-11 1L8.5 8.5l.94-2.06 2.06-.94-2.06-.94L8.5 2.5l-.94 2.06-2.06.94zm10 10l.94 2.06.94-2.06 2.06-.94-2.06-.94-.94-2.06-.94 2.06-2.06.94z\"/><path d=\"M17.41 7.96l-1.37-1.37c-.4-.4-.92-.59-1.43-.59-.52 0-1.04.2-1.43.59L10.3 9.45l-7.72 7.72c-.78.78-.78 2.05 0 2.83L4 21.41c.39.39.9.59 1.41.59.51 0 1.02-.2 1.41-.59l7.78-7.78 2.81-2.81c.8-.78.8-2.07 0-2.86zM5.41 20L4 18.59l7.72-7.72 1.47 1.35L5.41 20z\"/>\n",
              "  </svg>\n",
              "      </button>\n",
              "      \n",
              "  <style>\n",
              "    .colab-df-container {\n",
              "      display:flex;\n",
              "      flex-wrap:wrap;\n",
              "      gap: 12px;\n",
              "    }\n",
              "\n",
              "    .colab-df-convert {\n",
              "      background-color: #E8F0FE;\n",
              "      border: none;\n",
              "      border-radius: 50%;\n",
              "      cursor: pointer;\n",
              "      display: none;\n",
              "      fill: #1967D2;\n",
              "      height: 32px;\n",
              "      padding: 0 0 0 0;\n",
              "      width: 32px;\n",
              "    }\n",
              "\n",
              "    .colab-df-convert:hover {\n",
              "      background-color: #E2EBFA;\n",
              "      box-shadow: 0px 1px 2px rgba(60, 64, 67, 0.3), 0px 1px 3px 1px rgba(60, 64, 67, 0.15);\n",
              "      fill: #174EA6;\n",
              "    }\n",
              "\n",
              "    [theme=dark] .colab-df-convert {\n",
              "      background-color: #3B4455;\n",
              "      fill: #D2E3FC;\n",
              "    }\n",
              "\n",
              "    [theme=dark] .colab-df-convert:hover {\n",
              "      background-color: #434B5C;\n",
              "      box-shadow: 0px 1px 3px 1px rgba(0, 0, 0, 0.15);\n",
              "      filter: drop-shadow(0px 1px 2px rgba(0, 0, 0, 0.3));\n",
              "      fill: #FFFFFF;\n",
              "    }\n",
              "  </style>\n",
              "\n",
              "      <script>\n",
              "        const buttonEl =\n",
              "          document.querySelector('#df-523e1e36-9b89-479f-b4eb-0195e4e4bd75 button.colab-df-convert');\n",
              "        buttonEl.style.display =\n",
              "          google.colab.kernel.accessAllowed ? 'block' : 'none';\n",
              "\n",
              "        async function convertToInteractive(key) {\n",
              "          const element = document.querySelector('#df-523e1e36-9b89-479f-b4eb-0195e4e4bd75');\n",
              "          const dataTable =\n",
              "            await google.colab.kernel.invokeFunction('convertToInteractive',\n",
              "                                                     [key], {});\n",
              "          if (!dataTable) return;\n",
              "\n",
              "          const docLinkHtml = 'Like what you see? Visit the ' +\n",
              "            '<a target=\"_blank\" href=https://colab.research.google.com/notebooks/data_table.ipynb>data table notebook</a>'\n",
              "            + ' to learn more about interactive tables.';\n",
              "          element.innerHTML = '';\n",
              "          dataTable['output_type'] = 'display_data';\n",
              "          await google.colab.output.renderOutput(dataTable, element);\n",
              "          const docLink = document.createElement('div');\n",
              "          docLink.innerHTML = docLinkHtml;\n",
              "          element.appendChild(docLink);\n",
              "        }\n",
              "      </script>\n",
              "    </div>\n",
              "  </div>\n",
              "  "
            ],
            "text/plain": [
              "       Unnamed: 0        date     city        country  avg_temp_c  year\n",
              "0               0  2000-01-01  Abidjan  Côte D'Ivoire      27.293  2000\n",
              "1               1  2000-02-01  Abidjan  Côte D'Ivoire      27.685  2000\n",
              "2               2  2000-03-01  Abidjan  Côte D'Ivoire      29.061  2000\n",
              "3               3  2000-04-01  Abidjan  Côte D'Ivoire      28.162  2000\n",
              "4               4  2000-05-01  Abidjan  Côte D'Ivoire      27.547  2000\n",
              "...           ...         ...      ...            ...         ...   ...\n",
              "16495       16495  2013-05-01     Xian          China      18.979  2013\n",
              "16496       16496  2013-06-01     Xian          China      23.522  2013\n",
              "16497       16497  2013-07-01     Xian          China      25.251  2013\n",
              "16498       16498  2013-08-01     Xian          China      24.528  2013\n",
              "16499       16499  2013-09-01     Xian          China         NaN  2013\n",
              "\n",
              "[16500 rows x 6 columns]"
            ]
          },
          "execution_count": 83,
          "metadata": {},
          "output_type": "execute_result"
        }
      ],
      "source": [
        "# Tarih sütununun yıl kısmını sıcaklıklara bir yıl sütunu olarak ekleyin.\n",
        "temperatures[\"year\"]=temperatures[\"date\"].apply(lambda x: pd.Series(str(x).split(\"-\"))[0])\n",
        "temperatures"
      ]
    },
    {
      "cell_type": "code",
      "execution_count": null,
      "metadata": {
        "colab": {
          "base_uri": "https://localhost:8080/"
        },
        "id": "RGn_kzvYpLDd",
        "outputId": "e72d1b97-491c-4f1c-e99d-f76700096dc9"
      },
      "outputs": [
        {
          "name": "stdout",
          "output_type": "stream",
          "text": [
            "year                                 2000       2001       2002       2003  \\\n",
            "country       city                                                           \n",
            "Afghanistan   Kabul             15.822667  15.847917  15.714583  15.132583   \n",
            "Angola        Luanda            24.410333  24.427083  24.790917  24.867167   \n",
            "Australia     Melbourne         14.320083  14.180000  14.075833  13.985583   \n",
            "              Sydney            17.567417  17.854500  17.733833  17.592333   \n",
            "Bangladesh    Dhaka             25.905250  25.931250  26.095000  25.927417   \n",
            "...                                   ...        ...        ...        ...   \n",
            "United States Chicago           11.089667  11.703083  11.532083  10.481583   \n",
            "              Los Angeles       16.643333  16.466250  16.430250  16.944667   \n",
            "              New York           9.969083  10.931000  11.252167   9.836000   \n",
            "Vietnam       Ho Chi Minh City  27.588917  27.831750  28.064750  27.827667   \n",
            "Zimbabwe      Harare            20.283667  20.861000  21.079333  20.889167   \n",
            "\n",
            "year                                 2004       2005       2006       2007  \\\n",
            "country       city                                                           \n",
            "Afghanistan   Kabul             16.128417  14.847500  15.798500  15.518000   \n",
            "Angola        Luanda            24.216167  24.414583  24.138417  24.241583   \n",
            "Australia     Melbourne         13.742083  14.378500  13.991083  14.991833   \n",
            "              Sydney            17.869667  18.028083  17.749500  18.020833   \n",
            "Bangladesh    Dhaka             26.136083  26.193333  26.440417  25.951333   \n",
            "...                                   ...        ...        ...        ...   \n",
            "United States Chicago           10.943417  11.583833  11.870500  11.448333   \n",
            "              Los Angeles       16.552833  16.431417  16.623083  16.699917   \n",
            "              New York          10.389500  10.681417  11.519250  10.627333   \n",
            "Vietnam       Ho Chi Minh City  27.686583  27.884000  28.044000  27.866667   \n",
            "Zimbabwe      Harare            20.307667  21.487417  20.699750  20.746250   \n",
            "\n",
            "year                                 2008       2009       2010       2011  \\\n",
            "country       city                                                           \n",
            "Afghanistan   Kabul             15.479250  15.093333  15.676000  15.812167   \n",
            "Angola        Luanda            24.266333  24.325083  24.440250  24.150750   \n",
            "Australia     Melbourne         14.110583  14.647417  14.231667  14.190917   \n",
            "              Sydney            17.321083  18.175833  17.999000  17.713333   \n",
            "Bangladesh    Dhaka             26.004500  26.535583  26.648167  25.803250   \n",
            "...                                   ...        ...        ...        ...   \n",
            "United States Chicago           10.242417  10.298333  11.815917  11.214250   \n",
            "              Los Angeles       17.014750  16.677000  15.887000  15.874833   \n",
            "              New York          10.641667  10.141833  11.357583  11.272250   \n",
            "Vietnam       Ho Chi Minh City  27.611417  27.853333  28.281750  27.675417   \n",
            "Zimbabwe      Harare            20.680500  20.523833  21.165833  20.781750   \n",
            "\n",
            "year                                 2012       2013  \n",
            "country       city                                    \n",
            "Afghanistan   Kabul             14.510333  16.206125  \n",
            "Angola        Luanda            24.240083  24.553875  \n",
            "Australia     Melbourne         14.268667  14.741500  \n",
            "              Sydney            17.474333  18.089750  \n",
            "Bangladesh    Dhaka             26.283583  26.587000  \n",
            "...                                   ...        ...  \n",
            "United States Chicago           12.821250  11.586889  \n",
            "              Los Angeles       17.089583  18.120667  \n",
            "              New York          11.971500  12.163889  \n",
            "Vietnam       Ho Chi Minh City  28.248750  28.455000  \n",
            "Zimbabwe      Harare            20.523333  19.756500  \n",
            "\n",
            "[100 rows x 14 columns]\n"
          ]
        }
      ],
      "source": [
        "# Avg_temp_c sütunundan, satır olarak country ve city ve sütun olarak year olacak şekilde bir pivot tablo yapın. \n",
        "# temp_by_country_city_vs_year isminde bir değişkene atayın ve sonucu print ile yazdırın.\n",
        "temp_by_country_city_vs_year=temperatures.pivot_table(\"avg_temp_c\",index=[\"country\",\"city\"],columns=\"year\")\n",
        "print(temp_by_country_city_vs_year)"
      ]
    },
    {
      "cell_type": "markdown",
      "metadata": {
        "id": "tbsvnTIov4Eb"
      },
      "source": [
        "3- Bazı anlamsal çıkarımlar yapmak için istatistik hesaplamaları yapacağız."
      ]
    },
    {
      "cell_type": "code",
      "execution_count": null,
      "metadata": {
        "colab": {
          "base_uri": "https://localhost:8080/"
        },
        "id": "90sDo9hba6FF",
        "outputId": "fc803deb-48a7-4ef6-f72e-425f4fd3219c"
      },
      "outputs": [
        {
          "data": {
            "text/plain": [
              "year\n",
              "2000    19.506243\n",
              "2001    19.679352\n",
              "2002    19.855685\n",
              "2003    19.630197\n",
              "2004    19.672204\n",
              "2005    19.607239\n",
              "2006    19.793993\n",
              "2007    19.854270\n",
              "2008    19.608778\n",
              "2009    19.833752\n",
              "2010    19.911734\n",
              "2011    19.549197\n",
              "2012    19.668239\n",
              "2013    20.263006\n",
              "Name: avg_temp_c, dtype: float64"
            ]
          },
          "execution_count": 102,
          "metadata": {},
          "output_type": "execute_result"
        }
      ],
      "source": [
        "# Her yıl için ortalama sıcaklığı hesaplayın ve 'mean_temp_by_year' adlı değişkene atayın.\n",
        "mean_temp_by_year = temperatures.groupby(\"year\")[\"avg_temp_c\"].mean()\n",
        "mean_temp_by_year"
      ]
    },
    {
      "cell_type": "code",
      "execution_count": null,
      "metadata": {
        "colab": {
          "base_uri": "https://localhost:8080/"
        },
        "id": "SAA0LHqkb7fa",
        "outputId": "88c04efb-9a6f-4ca2-9bca-38ad765a7fa4"
      },
      "outputs": [
        {
          "name": "stdout",
          "output_type": "stream",
          "text": [
            "2013\n"
          ]
        }
      ],
      "source": [
        "# 'mean_temp_by_year' içinde ortalama sıcaklığın en yüksek olduğu yılı filtreleyin. Print ile sonucu yazdırın.\n",
        "\n",
        "print(mean_temp_by_year.idxmax())"
      ]
    },
    {
      "cell_type": "code",
      "execution_count": null,
      "metadata": {
        "colab": {
          "base_uri": "https://localhost:8080/"
        },
        "id": "ro_eNlVRjt7f",
        "outputId": "8818e00e-03bd-4b8b-f1a6-42cd315208d2"
      },
      "outputs": [
        {
          "data": {
            "text/plain": [
              "city\n",
              "Abidjan        26.971024\n",
              "Addis Abeba    18.425378\n",
              "Ahmadabad      27.431195\n",
              "Aleppo         18.501244\n",
              "Alexandria     21.407896\n",
              "                 ...    \n",
              "Tokyo          13.413512\n",
              "Toronto         7.230067\n",
              "Umm Durman     29.981780\n",
              "Wuhan          17.749591\n",
              "Xian           12.488933\n",
              "Name: avg_temp_c, Length: 100, dtype: float64"
            ]
          },
          "execution_count": 108,
          "metadata": {},
          "output_type": "execute_result"
        }
      ],
      "source": [
        "# Her şehir için (sütunlar boyunca) ortalama sıcaklığı hesaplayın ve 'mean_temp_by_city' değerine atayın.\n",
        "mean_temp_by_city =temperatures.groupby(\"city\")[\"avg_temp_c\"].mean()\n",
        "mean_temp_by_city"
      ]
    },
    {
      "cell_type": "code",
      "execution_count": null,
      "metadata": {
        "colab": {
          "base_uri": "https://localhost:8080/"
        },
        "id": "nIFSbS8nqpBC",
        "outputId": "fe0e9abb-5b96-4a3b-df09-c7d84f65b224"
      },
      "outputs": [
        {
          "name": "stdout",
          "output_type": "stream",
          "text": [
            "Harbin\n"
          ]
        }
      ],
      "source": [
        "#'mean_temp_by_city' içinde en düşük ortalama sıcaklığa sahip şehiri filtreleyin. Print ile sonucu yazdırın.\n",
        "print(mean_temp_by_city.idxmin())\n"
      ]
    }
  ],
  "metadata": {
    "colab": {
      "provenance": []
    },
    "kernelspec": {
      "display_name": "Python 3",
      "name": "python3"
    },
    "language_info": {
      "name": "python"
    }
  },
  "nbformat": 4,
  "nbformat_minor": 0
}
